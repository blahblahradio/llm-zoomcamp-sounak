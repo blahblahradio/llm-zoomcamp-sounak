{
 "cells": [
  {
   "cell_type": "code",
   "execution_count": 1,
   "id": "f63a8fee",
   "metadata": {},
   "outputs": [],
   "source": [
    "# loading the required packages\n",
    "from qdrant_client import QdrantClient, models\n",
    "import requests\n",
    "from fastembed import TextEmbedding\n",
    "import numpy as np\n",
    "import json"
   ]
  },
  {
   "cell_type": "code",
   "execution_count": 2,
   "id": "5393250b",
   "metadata": {},
   "outputs": [
    {
     "name": "stdout",
     "output_type": "stream",
     "text": [
      "The length of the vector is 512\n",
      "The minimal value of the resulting vector is: -0.11\n"
     ]
    }
   ],
   "source": [
    "# Embedding the query\n",
    "embedding_model = TextEmbedding(model_name='jinaai/jina-embeddings-v2-small-en')\n",
    "query = 'I just discovered the course. Can I still join it?'\n",
    "query_vector = list(embedding_model.embed(query))\n",
    "print(f'The length of the vector is {len(query_vector[0])}')\n",
    "print(f'The minimal value of the resulting vector is: {round(min(query_vector[0]), 2)}')"
   ]
  },
  {
   "cell_type": "code",
   "execution_count": 3,
   "id": "5d5872f8",
   "metadata": {},
   "outputs": [
    {
     "name": "stdout",
     "output_type": "stream",
     "text": [
      "The cosine similarity of the doc with the initial query is 0.9\n"
     ]
    }
   ],
   "source": [
    "# Calculating the cosine similarity with another vector\n",
    "doc = 'Can I still join the course after the start date?'\n",
    "doc_vector = list(embedding_model.embed(doc))\n",
    "cs = query_vector[0].dot(doc_vector[0])\n",
    "print(f'The cosine similarity of the doc with the initial query is {round(cs, 1)}')"
   ]
  },
  {
   "cell_type": "code",
   "execution_count": 4,
   "id": "bcccf9ff",
   "metadata": {},
   "outputs": [
    {
     "name": "stdout",
     "output_type": "stream",
     "text": [
      "Most similar document index: 1\n",
      "All cosine similarities: [0.76920352 0.83360986 0.78624887 0.69141368 0.71836814]\n"
     ]
    }
   ],
   "source": [
    "# Computing the embeddings for the text field and calculating the cosine between the query vector and all the documents\n",
    "documents = [{'text': \"Yes, even if you don't register, you're still eligible to submit the homeworks.\\nBe aware, however, that there will be deadlines for turning in the final projects. So don't leave everything for the last minute.\",\n",
    "  'section': 'General course-related questions',\n",
    "  'question': 'Course - Can I still join the course after the start date?',\n",
    "  'course': 'data-engineering-zoomcamp'},\n",
    " {'text': 'Yes, we will keep all the materials after the course finishes, so you can follow the course at your own pace after it finishes.\\nYou can also continue looking at the homeworks and continue preparing for the next cohort. I guess you can also start working on your final capstone project.',\n",
    "  'section': 'General course-related questions',\n",
    "  'question': 'Course - Can I follow the course after it finishes?',\n",
    "  'course': 'data-engineering-zoomcamp'},\n",
    " {'text': \"The purpose of this document is to capture frequently asked technical questions\\nThe exact day and hour of the course will be 15th Jan 2024 at 17h00. The course will start with the first  “Office Hours'' live.1\\nSubscribe to course public Google Calendar (it works from Desktop only).\\nRegister before the course starts using this link.\\nJoin the course Telegram channel with announcements.\\nDon’t forget to register in DataTalks.Club's Slack and join the channel.\",\n",
    "  'section': 'General course-related questions',\n",
    "  'question': 'Course - When will the course start?',\n",
    "  'course': 'data-engineering-zoomcamp'},\n",
    " {'text': 'You can start by installing and setting up all the dependencies and requirements:\\nGoogle cloud account\\nGoogle Cloud SDK\\nPython 3 (installed with Anaconda)\\nTerraform\\nGit\\nLook over the prerequisites and syllabus to see if you are comfortable with these subjects.',\n",
    "  'section': 'General course-related questions',\n",
    "  'question': 'Course - What can I do before the course starts?',\n",
    "  'course': 'data-engineering-zoomcamp'},\n",
    " {'text': 'Star the repo! Share it with friends if you find it useful ❣️\\nCreate a PR if you see you can improve the text or the structure of the repository.',\n",
    "  'section': 'General course-related questions',\n",
    "  'question': 'How can we contribute to the course?',\n",
    "  'course': 'data-engineering-zoomcamp'}]\n",
    "\n",
    "# Embed all documents\n",
    "text_documents = [doc[\"text\"] for doc in documents]\n",
    "text_vectors = [np.array(vec) for vec in embedding_model.embed(text_documents)]\n",
    "text_vectors = np.array(text_vectors)\n",
    "\n",
    "# Matrix multiplication = all cosine similarities at once\n",
    "cosine_similarities = text_vectors.dot(np.array(list(embedding_model.embed(query))[0]).reshape(-1))\n",
    "\n",
    "# Find best match\n",
    "most_similar_index = int(np.argmax(cosine_similarities))\n",
    "print(f\"Most similar document index: {most_similar_index}\")\n",
    "print(f\"All cosine similarities: {cosine_similarities}\")"
   ]
  },
  {
   "cell_type": "code",
   "execution_count": 5,
   "id": "8db707b2",
   "metadata": {},
   "outputs": [
    {
     "name": "stdout",
     "output_type": "stream",
     "text": [
      "Most similar document index: 0\n",
      "All cosine similarities: [0.86033261 0.85745452 0.820505   0.75649533 0.80158869]\n"
     ]
    }
   ],
   "source": [
    "# Concatenate 'question' and 'text' for each document\n",
    "full_texts = [doc['question'] + ' ' + doc['text'] for doc in documents]\n",
    "full_texts_vectors = np.array([np.array(vec) for vec in embedding_model.embed(full_texts)])\n",
    "full_texts_vectors = np.array(full_texts_vectors)\n",
    "\n",
    "\n",
    "# Matrix multiplication = all cosine similarities at once\n",
    "cosine_similarities = full_texts_vectors.dot(np.array(list(embedding_model.embed(query))[0]).reshape(-1))\n",
    "\n",
    "# Find best match\n",
    "most_similar_index = int(np.argmax(cosine_similarities))\n",
    "print(f\"Most similar document index: {most_similar_index}\")\n",
    "print(f\"All cosine similarities: {cosine_similarities}\")"
   ]
  },
  {
   "cell_type": "code",
   "execution_count": 6,
   "id": "dac166be",
   "metadata": {},
   "outputs": [],
   "source": [
    "docs_url = 'https://github.com/alexeygrigorev/llm-rag-workshop/raw/main/notebooks/documents.json'\n",
    "docs_response = requests.get(docs_url)\n",
    "documents_raw = docs_response.json()\n",
    "\n",
    "\n",
    "documents = []\n",
    "\n",
    "for course in documents_raw:\n",
    "    course_name = course['course']\n",
    "    if course_name != 'machine-learning-zoomcamp':\n",
    "        continue\n",
    "\n",
    "    for doc in course['documents']:\n",
    "        doc['course'] = course_name\n",
    "        documents.append(doc)"
   ]
  },
  {
   "cell_type": "code",
   "execution_count": 7,
   "id": "07d7c827",
   "metadata": {},
   "outputs": [
    {
     "name": "stdout",
     "output_type": "stream",
     "text": [
      "Minimum embedding dimensionality: 384\n"
     ]
    }
   ],
   "source": [
    "# Get the list of supported models\n",
    "supported_models = TextEmbedding.list_supported_models()\n",
    "\n",
    "# Find the minimum dimension\n",
    "min_dim = min(model[\"dim\"] for model in supported_models)\n",
    "\n",
    "print(f\"Minimum embedding dimensionality: {min_dim}\")"
   ]
  },
  {
   "cell_type": "code",
   "execution_count": 8,
   "id": "901b2eb5",
   "metadata": {},
   "outputs": [],
   "source": [
    "texts = [doc['question'] + ' ' + doc['text'] for doc in documents]\n",
    "\n",
    "small_model = TextEmbedding(model_name='BAAI/bge-small-en')\n",
    "\n",
    "doc_vectors = np.array([np.array(vec) for vec in small_model.embed(texts)])\n",
    "\n",
    "client = QdrantClient(\"http://localhost:6333\")\n",
    "\n",
    "collection_name = \"ml-zoomcamp-faq\"\n",
    "\n",
    "# Create the collection with specified vector parameters\n",
    "if collection_name not in [col.name for col in client.get_collections().collections]:\n",
    "    client.create_collection(\n",
    "        collection_name=collection_name,\n",
    "        vectors_config=models.VectorParams(\n",
    "            size=min_dim,\n",
    "            distance=models.Distance.COSINE\n",
    "        )\n",
    "    )"
   ]
  },
  {
   "cell_type": "code",
   "execution_count": 9,
   "id": "8602caac",
   "metadata": {},
   "outputs": [],
   "source": [
    "points = [\n",
    "    models.PointStruct(id=i, vector=doc_vectors[i].tolist(), payload={\"question\": documents[i]['question'], \"text\": documents[i]['text']})\n",
    "    for i in range(len(doc_vectors))\n",
    "]"
   ]
  },
  {
   "cell_type": "code",
   "execution_count": 11,
   "id": "750001c7",
   "metadata": {},
   "outputs": [
    {
     "data": {
      "text/plain": [
       "UpdateResult(operation_id=0, status=<UpdateStatus.COMPLETED: 'completed'>)"
      ]
     },
     "execution_count": 11,
     "metadata": {},
     "output_type": "execute_result"
    }
   ],
   "source": [
    "client.upsert(collection_name=collection_name, points=points)"
   ]
  },
  {
   "cell_type": "code",
   "execution_count": 12,
   "id": "5bfdb672",
   "metadata": {},
   "outputs": [
    {
     "name": "stdout",
     "output_type": "stream",
     "text": [
      "Highest score for the top result: 0.89\n"
     ]
    }
   ],
   "source": [
    "search_result = client.query_points(\n",
    "    collection_name=collection_name,\n",
    "    query=models.Document(\n",
    "        text=query,\n",
    "        model='BAAI/bge-small-en'\n",
    "    ),\n",
    "    limit=1,\n",
    "    with_payload=True\n",
    ")\n",
    "top_score = search_result.points[0].score\n",
    "print(f\"Highest score for the top result: {round(top_score, 2)}\")"
   ]
  }
 ],
 "metadata": {
  "kernelspec": {
   "display_name": "Python 3",
   "language": "python",
   "name": "python3"
  },
  "language_info": {
   "codemirror_mode": {
    "name": "ipython",
    "version": 3
   },
   "file_extension": ".py",
   "mimetype": "text/x-python",
   "name": "python",
   "nbconvert_exporter": "python",
   "pygments_lexer": "ipython3",
   "version": "3.10.8"
  }
 },
 "nbformat": 4,
 "nbformat_minor": 5
}
