{
 "cells": [
  {
   "cell_type": "code",
   "execution_count": 1,
   "id": "ffa04381",
   "metadata": {},
   "outputs": [],
   "source": [
    "# Loading the packages\n",
    "import requests \n",
    "import json\n",
    "from elasticsearch import Elasticsearch\n",
    "import creds\n",
    "from tqdm.auto import tqdm\n",
    "from openai import OpenAI\n",
    "import tiktoken"
   ]
  },
  {
   "cell_type": "code",
   "execution_count": 2,
   "id": "f65f9b18",
   "metadata": {},
   "outputs": [],
   "source": [
    "# Getting the data\n",
    "docs_url = 'https://github.com/DataTalksClub/llm-zoomcamp/blob/main/01-intro/documents.json?raw=1'\n",
    "docs_response = requests.get(docs_url)\n",
    "documents_raw = docs_response.json()\n",
    "\n",
    "documents = []\n",
    "\n",
    "for course in documents_raw:\n",
    "    course_name = course['course']\n",
    "\n",
    "    for doc in course['documents']:\n",
    "        doc['course'] = course_name\n",
    "        documents.append(doc)"
   ]
  },
  {
   "cell_type": "code",
   "execution_count": 3,
   "id": "c3ac12d6",
   "metadata": {},
   "outputs": [
    {
     "data": {
      "application/vnd.jupyter.widget-view+json": {
       "model_id": "43aefb19a47548999c995fa744ee1fdf",
       "version_major": 2,
       "version_minor": 0
      },
      "text/plain": [
       "  0%|          | 0/948 [00:00<?, ?it/s]"
      ]
     },
     "metadata": {},
     "output_type": "display_data"
    }
   ],
   "source": [
    "# Defining the elastic search client\n",
    "es_client = Elasticsearch('http://localhost:9200')\n",
    "index_settings = {\n",
    "    \"settings\": {\n",
    "        \"number_of_shards\": 1,\n",
    "        \"number_of_replicas\": 0\n",
    "    },\n",
    "    \"mappings\": {\n",
    "        \"properties\": {\n",
    "            \"text\": {\"type\": \"text\"},\n",
    "            # \"section\": {\"type\": \"text\"},\n",
    "            \"question\": {\"type\": \"text\"},\n",
    "            \"course\": {\"type\": \"keyword\"} \n",
    "        }\n",
    "    }\n",
    "}\n",
    "index_name = 'course-questions'\n",
    "es_client.indices.create(index=index_name, body=index_settings)\n",
    "\n",
    "for doc in tqdm(documents):\n",
    "    es_client.index(index=index_name, document=doc) # Data is getting added at this stage"
   ]
  },
  {
   "cell_type": "code",
   "execution_count": 4,
   "id": "89df568d",
   "metadata": {},
   "outputs": [],
   "source": [
    "# Function creating the elastic search client\n",
    "def elastic_search(size, query, filter):\n",
    "    search_query = {\n",
    "        \"size\": size,\n",
    "        \"query\": {\n",
    "            \"bool\": {\n",
    "                \"must\": {\n",
    "                    \"multi_match\": {\n",
    "                        \"query\": query,\n",
    "                        \"fields\": [\"question^4\", \"text\"],\n",
    "                        \"type\": \"best_fields\"\n",
    "                    }\n",
    "                },\n",
    "                \"filter\": filter\n",
    "            }\n",
    "        }\n",
    "    }\n",
    "    response = es_client.search(index=index_name, body=search_query)\n",
    "    result_docs = []\n",
    "    result_scores = []    \n",
    "    for hit in response['hits']['hits']:\n",
    "        result_docs.append(hit['_source'])\n",
    "        result_scores.append(hit['_score']) \n",
    "    return result_docs, result_scores"
   ]
  },
  {
   "cell_type": "code",
   "execution_count": 5,
   "id": "c8cdf850",
   "metadata": {},
   "outputs": [
    {
     "name": "stdout",
     "output_type": "stream",
     "text": [
      "The max score is: 84.05\n"
     ]
    }
   ],
   "source": [
    "_, result_scores = elastic_search(size = 5, query='How do I execute a command in a running docker container?', filter=None)\n",
    "print(f'The max score is: {round(max(result_scores), 2)}')"
   ]
  },
  {
   "cell_type": "code",
   "execution_count": 6,
   "id": "0dd147e8",
   "metadata": {},
   "outputs": [
    {
     "name": "stdout",
     "output_type": "stream",
     "text": [
      "The third question returned by the search engine is:\n",
      "How do I copy files from a different folder into docker container’s working directory?\n"
     ]
    }
   ],
   "source": [
    "ml_filter = {\"term\": {\"course\": \"machine-learning-zoomcamp\"}}\n",
    "result_docs_2, _ = elastic_search(size = 3, \n",
    "                query='How do copy a file to a Docker container?How do I execute a command in a running docker container?', \n",
    "                filter=ml_filter)\n",
    "print(f'The third question returned by the search engine is:\\n{result_docs_2[2][\"question\"]}')"
   ]
  },
  {
   "cell_type": "code",
   "execution_count": 7,
   "id": "ea14c31a",
   "metadata": {},
   "outputs": [
    {
     "name": "stdout",
     "output_type": "stream",
     "text": [
      "The length of the prompt is: 1462\n"
     ]
    }
   ],
   "source": [
    "# Function to format the top results into a readable context string\n",
    "def create_context(results):\n",
    "    context = \"\"\n",
    "    for doc in results:\n",
    "        context = context + f\"\"\"Q: {doc['question']}\\nA: {doc['text']}\\n\\n\"\"\"\n",
    "    return context\n",
    "\n",
    "# Function to construct a prompt for the AI using the query and the search context\n",
    "def create_prompt(query, context):\n",
    "    prompt_template = '''\n",
    "You're a course teaching assistant. Answer the QUESTION based on the CONTEXT from the FAQ database.\n",
    "Use only the facts from the CONTEXT when answering the QUESTION.\n",
    "\n",
    "QUESTION: {question}\n",
    "\n",
    "CONTEXT:\n",
    "{context}\n",
    "'''.strip()\n",
    "\n",
    "    # Formatting the template with the actual query and context\n",
    "    prompt = prompt_template.format(question=query, context=context).strip()\n",
    "    return prompt\n",
    "\n",
    "context = create_context(results=result_docs_2)\n",
    "prompt = create_prompt(query='How do I execute a command in a running docker container?', context=context)\n",
    "print(f\"The length of the prompt is: {len(prompt)}\")"
   ]
  }
 ],
 "metadata": {
  "kernelspec": {
   "display_name": "Python 3",
   "language": "python",
   "name": "python3"
  },
  "language_info": {
   "codemirror_mode": {
    "name": "ipython",
    "version": 3
   },
   "file_extension": ".py",
   "mimetype": "text/x-python",
   "name": "python",
   "nbconvert_exporter": "python",
   "pygments_lexer": "ipython3",
   "version": "3.10.8"
  }
 },
 "nbformat": 4,
 "nbformat_minor": 5
}
